{
 "cells": [
  {
   "cell_type": "code",
   "execution_count": null,
   "id": "726f64d8-ce8b-492d-91ae-f008e303336d",
   "metadata": {},
   "outputs": [],
   "source": [
    "import pandas as pd\n",
    "import sqlite3\n",
    "import matplotlib.pyplot as plt\n",
    "import seaborn as sns\n",
    "\n",
    "# Connect to your database\n",
    "DATABASE_NAME = \"../anime.db\" # Use relative path from the notebooks folder\n",
    "conn = sqlite3.connect(DATABASE_NAME)\n",
    "\n",
    "# Load data into a pandas DataFrame\n",
    "df = pd.read_sql_query(\"SELECT * FROM anime\", conn)\n",
    "conn.close()\n",
    "\n",
    "# --- Exploration 1: Top 10 Anime by Score ---\n",
    "top_10_scored = df.nlargest(10, 'score')\n",
    "\n",
    "plt.figure(figsize=(10, 6))\n",
    "sns.barplot(data=top_10_scored, x='score', y='title', palette='viridis')\n",
    "plt.title('Top 10 Anime by Score')\n",
    "plt.xlabel('Score')\n",
    "plt.ylabel('Anime Title')\n",
    "plt.show()\n",
    "\n",
    "\n",
    "# --- Exploration 2: Most Prolific Studios ---\n",
    "# We need to handle multiple studios per anime\n",
    "studios = df['studio'].str.split(', ').explode().str.strip()\n",
    "top_10_studios = studios.value_counts().nlargest(10)\n",
    "\n",
    "plt.figure(figsize=(10, 6))\n",
    "sns.barplot(x=top_10_studios.values, y=top_10_studios.index, palette='mako')\n",
    "plt.title('Top 10 Studios by Number of Productions (in Top 100)')\n",
    "plt.xlabel('Number of Productions')\n",
    "plt.ylabel('Studio')\n",
    "plt.show()"
   ]
  }
 ],
 "metadata": {
  "kernelspec": {
   "display_name": "Python 3 (ipykernel)",
   "language": "python",
   "name": "python3"
  },
  "language_info": {
   "codemirror_mode": {
    "name": "ipython",
    "version": 3
   },
   "file_extension": ".py",
   "mimetype": "text/x-python",
   "name": "python",
   "nbconvert_exporter": "python",
   "pygments_lexer": "ipython3",
   "version": "3.10.12"
  }
 },
 "nbformat": 4,
 "nbformat_minor": 5
}
